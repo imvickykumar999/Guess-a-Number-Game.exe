{
  "nbformat": 4,
  "nbformat_minor": 0,
  "metadata": {
    "colab": {
      "provenance": [],
      "authorship_tag": "ABX9TyMt0AECYa/BotEQiE+vyUj8",
      "include_colab_link": true
    },
    "kernelspec": {
      "name": "python3",
      "display_name": "Python 3"
    },
    "language_info": {
      "name": "python"
    }
  },
  "cells": [
    {
      "cell_type": "markdown",
      "metadata": {
        "id": "view-in-github",
        "colab_type": "text"
      },
      "source": [
        "<a href=\"https://colab.research.google.com/github/imvickykumar999/Guess-a-Number-Game.exe/blob/main/Guess_a_Number.ipynb\" target=\"_parent\"><img src=\"https://colab.research.google.com/assets/colab-badge.svg\" alt=\"Open In Colab\"/></a>"
      ]
    },
    {
      "cell_type": "code",
      "source": [
        "\n",
        "import random, math\n",
        "\n",
        "total = 0\n",
        "sug = []\n",
        "\n",
        "who_play = int(input('\\nWho will play ? (Computer - 1, Human - 0) : '))\n",
        "if not who_play:\n",
        "  if_sug = int(input('Do you need suggestion ? (Yes - 1, No - 0) : '))\n",
        "else:\n",
        "  if_sug = 0\n",
        "limit = int(input('Need limit ? (Yes - 1, No - 0) : '))\n",
        "\n",
        "def binary_search(arr, x):\n",
        "  low = 0\n",
        "  high = len(arr) - 1\n",
        "  mid = 0\n",
        "\n",
        "  while low <= high:\n",
        "    mid = (high + low) // 2\n",
        "    sug.append(arr[mid])\n",
        "\n",
        "    if arr[mid] < x:\n",
        "      low = mid + 1\n",
        "\n",
        "    elif arr[mid] > x:\n",
        "      high = mid - 1\n",
        "\n",
        "    else:\n",
        "      return mid\n",
        "      \n",
        "  return -1\n",
        "\n",
        "if limit:\n",
        "  a = int(input('\\nEnter lower limit (e.g., 1) : '))\n",
        "  b = int(input('Enter upper limit : (e.g., 100) '))\n",
        "else:\n",
        "  a,b=1,100\n",
        "\n",
        "choice = random.randint(a,b)\n",
        "\n",
        "c = math.ceil(math.log(b-a+1))\n",
        "print('\\nChance given : ', c)\n",
        "binary_search(range(a,b+1), choice)\n",
        "\n",
        "for i in range(c):\n",
        "  print()\n",
        "\n",
        "  if if_sug:\n",
        "    print('Suggestion (beta) : ', sug[i])\n",
        "\n",
        "  if who_play:\n",
        "    ask = sug[i]\n",
        "  else:\n",
        "    ask = int(input(f'{i+1}). Enter a number : '))\n",
        "\n",
        "  if ask > choice:\n",
        "    print('too high')\n",
        "\n",
        "  elif ask < choice:\n",
        "    print('too low')\n",
        "\n",
        "  else:\n",
        "    print('... correct ...')\n",
        "    break\n",
        "\n",
        "print('-'*25, end=' Summary\\n')\n",
        "print('\\nTaken chances : ', i+1)\n",
        "print('Correct Answer : ', choice)\n",
        "\n",
        "print('\\nLast guess : ', ask)\n",
        "total += abs(ask-choice)\n",
        "\n",
        "if total:\n",
        "  print(f'Missed by difference of {total} numbers.')\n",
        "else:\n",
        "  if not who_play:\n",
        "    print('Congratulations Human ...')\n",
        "  else:\n",
        "    print('Congratulations Computer ...')"
      ],
      "metadata": {
        "colab": {
          "base_uri": "https://localhost:8080/"
        },
        "id": "GQKQm3viiFaz",
        "outputId": "e4bd7e3d-ce37-46c9-e588-39bcba0fa6a2"
      },
      "execution_count": null,
      "outputs": [
        {
          "output_type": "stream",
          "name": "stdout",
          "text": [
            "\n",
            "Who will play ? (Computer - 1, Human - 0) : 1\n",
            "Need limit ? (Yes - 1, No - 0) : 1\n",
            "\n",
            "Enter lower limit (e.g., 1) : 1\n",
            "Enter upper limit : (e.g., 100) 50\n",
            "\n",
            "Chance given :  4\n",
            "\n",
            "too low\n",
            "\n",
            "too low\n",
            "\n",
            "too high\n",
            "\n",
            "... correct ...\n",
            "------------------------- Summary\n",
            "\n",
            "Taken chances :  4\n",
            "Correct Answer :  41\n",
            "\n",
            "Last guess :  41\n",
            "Congratulations Computer ...\n"
          ]
        }
      ]
    },
    {
      "cell_type": "code",
      "execution_count": null,
      "metadata": {
        "colab": {
          "base_uri": "https://localhost:8080/"
        },
        "id": "V0L2VuOSR7Zz",
        "outputId": "80ff6d51-823c-4032-8020-e11efcea12f8"
      },
      "outputs": [
        {
          "output_type": "execute_result",
          "data": {
            "text/plain": [
              "2401"
            ]
          },
          "metadata": {},
          "execution_count": 1
        }
      ],
      "source": [
        "7**4"
      ]
    },
    {
      "cell_type": "code",
      "source": [
        "planet = 'Earth'\n",
        "diameter = 12734"
      ],
      "metadata": {
        "id": "raSls2sgSI5W"
      },
      "execution_count": null,
      "outputs": []
    },
    {
      "cell_type": "code",
      "source": [
        "print(f'Diameter of {planet} is {diameter}')"
      ],
      "metadata": {
        "colab": {
          "base_uri": "https://localhost:8080/"
        },
        "id": "oFuELOCMSevA",
        "outputId": "2d433c30-a3c0-4701-a545-60b6bf46a9ae"
      },
      "execution_count": null,
      "outputs": [
        {
          "output_type": "stream",
          "name": "stdout",
          "text": [
            "Diameter of Earth is 12734\n"
          ]
        }
      ]
    },
    {
      "cell_type": "code",
      "source": [
        "giftBox = 'braed iph*one butter ip*ad milk'\n",
        "nostar = giftBox.split()"
      ],
      "metadata": {
        "id": "1LLNY8wBShMP"
      },
      "execution_count": null,
      "outputs": []
    },
    {
      "cell_type": "code",
      "source": [
        "for i in 'braed iph*one butter ip*ad milk'.split():\n",
        "  if '*' in i:\n",
        "    print(i)"
      ],
      "metadata": {
        "colab": {
          "base_uri": "https://localhost:8080/"
        },
        "id": "84PWrRWhT-E3",
        "outputId": "0f57ceb3-d358-4567-f58f-c58119936166"
      },
      "execution_count": null,
      "outputs": [
        {
          "output_type": "stream",
          "name": "stdout",
          "text": [
            "iph*one\n",
            "ip*ad\n"
          ]
        }
      ]
    },
    {
      "cell_type": "code",
      "source": [
        "colors = 'red orange blue indigo green'\n",
        "for i in colors.split():\n",
        "  if 'orange' in i or 'indigo' in i:\n",
        "    print(i)"
      ],
      "metadata": {
        "id": "wlIvxOm6UtBD",
        "colab": {
          "base_uri": "https://localhost:8080/"
        },
        "outputId": "375c7b7f-cf38-4ca1-df85-41f611b0730a"
      },
      "execution_count": null,
      "outputs": [
        {
          "output_type": "stream",
          "name": "stdout",
          "text": [
            "orange\n",
            "indigo\n"
          ]
        }
      ]
    },
    {
      "cell_type": "code",
      "source": [
        "for i in colors.split():\n",
        "  if i[0] in 'aeiou':\n",
        "    print(i)"
      ],
      "metadata": {
        "colab": {
          "base_uri": "https://localhost:8080/"
        },
        "id": "AcxkAYt8W5MF",
        "outputId": "9f9515bc-b713-4251-ad0b-aeb59bdcef47"
      },
      "execution_count": null,
      "outputs": [
        {
          "output_type": "stream",
          "name": "stdout",
          "text": [
            "orange\n",
            "indigo\n"
          ]
        }
      ]
    },
    {
      "cell_type": "code",
      "source": [
        "dct = {'here' : [1,2,3,{'target' : (False, {'color' : 'black', 'greetings' : ['hello world']})}]}"
      ],
      "metadata": {
        "id": "_fxv1JKiXdav"
      },
      "execution_count": null,
      "outputs": []
    },
    {
      "cell_type": "code",
      "source": [
        "dct"
      ],
      "metadata": {
        "colab": {
          "base_uri": "https://localhost:8080/"
        },
        "id": "zRkTVKNph-r2",
        "outputId": "2cd225fb-edfa-455f-9fa1-5d88f76050fa"
      },
      "execution_count": null,
      "outputs": [
        {
          "output_type": "execute_result",
          "data": {
            "text/plain": [
              "{'here': [1,\n",
              "  2,\n",
              "  3,\n",
              "  {'target': (False, {'color': 'black', 'greetings': ['hello world']})}]}"
            ]
          },
          "metadata": {},
          "execution_count": 21
        }
      ]
    },
    {
      "cell_type": "code",
      "source": [
        "dct['here'][3]['target'][1]['greetings'][0].split()[0]"
      ],
      "metadata": {
        "colab": {
          "base_uri": "https://localhost:8080/",
          "height": 36
        },
        "id": "UzrNFgMmiAxH",
        "outputId": "94fb60c3-5578-47cb-8ac2-c44bab3c96ac"
      },
      "execution_count": null,
      "outputs": [
        {
          "output_type": "execute_result",
          "data": {
            "text/plain": [
              "'hello'"
            ],
            "application/vnd.google.colaboratory.intrinsic+json": {
              "type": "string"
            }
          },
          "metadata": {},
          "execution_count": 28
        }
      ]
    },
    {
      "cell_type": "markdown",
      "source": [
        "---\n",
        "\n",
        "### **randint()** function takes two parameters start, which is a starting range, and stop, which is an end range. Both parameters *(start, stop)* are `included` while generating a random number.\n",
        "\n",
        "---"
      ],
      "metadata": {
        "id": "GHw23Qy88JdT"
      }
    },
    {
      "cell_type": "code",
      "source": [
        "def binary_search(arr, x):\n",
        "  low = 0\n",
        "  high = len(arr) - 1\n",
        "  mid = 0\n",
        "\n",
        "  while low <= high:\n",
        "    mid = (high + low) // 2\n",
        "\n",
        "    if arr[mid] < x:\n",
        "      low = mid + 1\n",
        "\n",
        "    elif arr[mid] > x:\n",
        "      high = mid - 1\n",
        "\n",
        "    else:\n",
        "      return mid\n",
        "\n",
        "  return -1\n",
        "\n",
        "\n",
        "arr = [ 2, 3, 4, 10, 40 ]\n",
        "x = 10\n",
        "\n",
        "result = binary_search(arr, x)\n",
        "\n",
        "if result != -1:\n",
        "  print(\"Element is present at index\", str(result))\n",
        "else:\n",
        "  print(\"Element is not present in array\")"
      ],
      "metadata": {
        "colab": {
          "base_uri": "https://localhost:8080/"
        },
        "id": "dG0YD6pq8-U7",
        "outputId": "f0db050b-e3d4-4d1b-ea02-ef620428bbbf"
      },
      "execution_count": null,
      "outputs": [
        {
          "output_type": "stream",
          "name": "stdout",
          "text": [
            "Element is present at index 3\n"
          ]
        }
      ]
    },
    {
      "cell_type": "code",
      "source": [
        "# a = int(input('Enter lower limit : '))\n",
        "# b = int(input('Enter upper limit : '))\n",
        "\n",
        "# choice = random.randint(a,b)\n",
        "# c = math.ceil(math.log(b-a+1))\n",
        "# print(c)\n",
        "\n",
        "# arr = range(a,b+1)\n",
        "# binary_search(arr, choice)\n",
        "\n",
        "# sug, choice"
      ],
      "metadata": {
        "id": "74GgNuN7JPOV"
      },
      "execution_count": null,
      "outputs": []
    },
    {
      "cell_type": "code",
      "source": [
        "['odd' if int(input('Enter a number : '))%2 else 'even'][0]"
      ],
      "metadata": {
        "colab": {
          "base_uri": "https://localhost:8080/",
          "height": 53
        },
        "id": "UJeabBEgjmFz",
        "outputId": "bccee328-0bdb-4b81-a3b4-3d0c86e7fe1e"
      },
      "execution_count": null,
      "outputs": [
        {
          "name": "stdout",
          "output_type": "stream",
          "text": [
            "Enter a number : 6\n"
          ]
        },
        {
          "output_type": "execute_result",
          "data": {
            "text/plain": [
              "'even'"
            ],
            "application/vnd.google.colaboratory.intrinsic+json": {
              "type": "string"
            }
          },
          "metadata": {},
          "execution_count": 47
        }
      ]
    },
    {
      "cell_type": "code",
      "source": [
        "# https://gist.github.com/singhsidhukuldeep/f51d9770605c71118596debecdf5cf46"
      ],
      "metadata": {
        "id": "QYT-ROhajoNj"
      },
      "execution_count": null,
      "outputs": []
    }
  ]
}